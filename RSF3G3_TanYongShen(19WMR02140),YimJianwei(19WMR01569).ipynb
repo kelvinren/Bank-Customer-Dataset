{
  "nbformat": 4,
  "nbformat_minor": 0,
  "metadata": {
    "colab": {
      "name": "RSF3G3_TanYongShen(19WMR02140),YimJianwei(19WMR01569).ipynb",
      "provenance": [],
      "collapsed_sections": [],
      "toc_visible": true,
      "include_colab_link": true
    },
    "kernelspec": {
      "name": "python3",
      "display_name": "Python 3"
    }
  },
  "cells": [
    {
      "cell_type": "markdown",
      "metadata": {
        "id": "view-in-github",
        "colab_type": "text"
      },
      "source": [
        "<a href=\"https://colab.research.google.com/github/kelvinren/Bank-Customer-Dataset/blob/master/RSF3G3_TanYongShen(19WMR02140)%2CYimJianwei(19WMR01569).ipynb\" target=\"_parent\"><img src=\"https://colab.research.google.com/assets/colab-badge.svg\" alt=\"Open In Colab\"/></a>"
      ]
    },
    {
      "cell_type": "markdown",
      "metadata": {
        "id": "ofNNcfxn-VuH",
        "colab_type": "text"
      },
      "source": [
        "**RSF3 G3**               \n",
        "**Tan Yong Shen ( 19WMR02140 )**    \n",
        "**Yim Jianwei ( 19WMR01569 )**"
      ]
    },
    {
      "cell_type": "markdown",
      "metadata": {
        "id": "CwBs5mJp8q-B",
        "colab_type": "text"
      },
      "source": [
        "# Bank Customer Data set  ( Customer Churn Analysis ) "
      ]
    },
    {
      "cell_type": "markdown",
      "metadata": {
        "id": "RZGaotJR9bIi",
        "colab_type": "text"
      },
      "source": [
        "# Introduction\n",
        "\n",
        "# Business Understanding\n",
        "\n",
        "The main business of bank is to lend money to people, business and more that are eligible who need funds. These services are provided by them also include a charged fee which are known as interest on loans. However, the money that are required to provides the service are funded through others available bank services such as bank account, fixed deposits, remittance service, transaction of foreign exchange and more. By having this perpetual loop of services, bank company gains profits by charging interest of loans higher than interest of deposits. Some studies confirmed that acquiring new customers can cost five times more than satisfying and retaining existing customers(Landis, 2020). Therefore, managing and predicting customer churn became an essential objective to bank business model as customer are the main source of bank business model flow as a poor handling could cause a massive customer churn and may results in a bankruptcy. The goal of this project is to test different prediction model on accuracy and probability of customer is likely to churn through various data from different region that are close up together, which are France, Spain and Germany, with various methods. Moreover, we also will visualise which factors contribute to customer churn."
      ]
    },
    {
      "cell_type": "markdown",
      "metadata": {
        "id": "3RMwHPCa-ZxK",
        "colab_type": "text"
      },
      "source": [
        "**Preparation**\n",
        "\n",
        "1.   Import Libraries\n",
        "2.   Load Data Set\n",
        "\n"
      ]
    },
    {
      "cell_type": "code",
      "metadata": {
        "id": "0Gn5cRCe-mV2",
        "colab_type": "code",
        "colab": {}
      },
      "source": [
        "#1. Import Libraries\n",
        "from __future__ import print_function\n",
        "import numpy as np # linear algebra\n",
        "import pandas as pd # data processing, CSV file I/O (e.g. pd.read_csv)\n",
        "import seaborn as sns #visualization\n",
        "import matplotlib.pyplot as plt #visualization\n",
        "%matplotlib inline\n",
        "\n",
        "import itertools\n",
        "import warnings\n",
        "warnings.filterwarnings(\"ignore\")\n",
        "import os\n",
        "import io\n",
        "import plotly.offline as py #visualization\n",
        "py.init_notebook_mode(connected=True) #visualization\n",
        "import plotly.graph_objs as go #visualization\n",
        "import plotly.tools as tls #visualization\n",
        "import plotly.figure_factory as ff #visualization\n",
        "#print(os.listdir(\"../input\"))"
      ],
      "execution_count": null,
      "outputs": []
    },
    {
      "cell_type": "code",
      "metadata": {
        "id": "7FDMcldZqGcE",
        "colab_type": "code",
        "colab": {}
      },
      "source": [
        "from google.colab import drive\n",
        "drive.mount('/content/drive')"
      ],
      "execution_count": null,
      "outputs": []
    },
    {
      "cell_type": "code",
      "metadata": {
        "id": "EAUcAzEynmPt",
        "colab_type": "code",
        "colab": {}
      },
      "source": [
        "# 2. Load Data Set\n",
        "BANK_DATA = pd.read_csv('/content/drive/My Drive/Colab Notebooks/Bank_Customer_Dataset.csv')"
      ],
      "execution_count": null,
      "outputs": []
    },
    {
      "cell_type": "markdown",
      "metadata": {
        "id": "XHTk7Fgdrfp5",
        "colab_type": "text"
      },
      "source": [
        "**Data Preview**"
      ]
    },
    {
      "cell_type": "code",
      "metadata": {
        "id": "JX9nDP7trwWx",
        "colab_type": "code",
        "colab": {}
      },
      "source": [
        "BANK_DATA.head()"
      ],
      "execution_count": null,
      "outputs": []
    },
    {
      "cell_type": "markdown",
      "metadata": {
        "id": "YpevmSK1x10V",
        "colab_type": "text"
      },
      "source": [
        "# Data Understanding"
      ]
    },
    {
      "cell_type": "markdown",
      "metadata": {
        "id": "LaYqdv266Xdi",
        "colab_type": "text"
      },
      "source": [
        "**Data Size**"
      ]
    },
    {
      "cell_type": "code",
      "metadata": {
        "id": "2UnirzPHyzRW",
        "colab_type": "code",
        "colab": {}
      },
      "source": [
        "# Understand the size of data\n",
        "BANK_DATA.size"
      ],
      "execution_count": null,
      "outputs": []
    },
    {
      "cell_type": "markdown",
      "metadata": {
        "id": "PSJEaBHcDP86",
        "colab_type": "text"
      },
      "source": [
        "**Data Shape**"
      ]
    },
    {
      "cell_type": "code",
      "metadata": {
        "id": "kLldQmTNDTE5",
        "colab_type": "code",
        "colab": {}
      },
      "source": [
        "# Understand the Data Shape\n",
        "# Result = 10000 Rows, 14 Columns\n",
        "BANK_DATA.shape"
      ],
      "execution_count": null,
      "outputs": []
    },
    {
      "cell_type": "markdown",
      "metadata": {
        "id": "U_rGsVpd6fRb",
        "colab_type": "text"
      },
      "source": [
        "**Data Columns**"
      ]
    },
    {
      "cell_type": "code",
      "metadata": {
        "id": "AItINdipx49x",
        "colab_type": "code",
        "colab": {}
      },
      "source": [
        "# Understand what are the columns available \n",
        "# Result = 14 Columns\n",
        "BANK_DATA.columns"
      ],
      "execution_count": null,
      "outputs": []
    },
    {
      "cell_type": "markdown",
      "metadata": {
        "id": "H5ykYgij6juL",
        "colab_type": "text"
      },
      "source": [
        "**Data Types**"
      ]
    },
    {
      "cell_type": "code",
      "metadata": {
        "id": "en5xnJGXzj9T",
        "colab_type": "code",
        "colab": {}
      },
      "source": [
        "# Understand the data types of each columns\n",
        "BANK_DATA.dtypes"
      ],
      "execution_count": null,
      "outputs": []
    },
    {
      "cell_type": "markdown",
      "metadata": {
        "id": "AFGYwJ_t6o2Q",
        "colab_type": "text"
      },
      "source": [
        "**Missing Values**"
      ]
    },
    {
      "cell_type": "code",
      "metadata": {
        "id": "130d1Kij0mOp",
        "colab_type": "code",
        "colab": {}
      },
      "source": [
        "# Check for missing values\n",
        "# Result = No missing values\n",
        "BANK_DATA.isnull().sum()"
      ],
      "execution_count": null,
      "outputs": []
    },
    {
      "cell_type": "markdown",
      "metadata": {
        "id": "C-Aw29nq5XJb",
        "colab_type": "text"
      },
      "source": [
        "**Remove unnecessary columns**"
      ]
    },
    {
      "cell_type": "code",
      "metadata": {
        "id": "sa3YwvjW5bFV",
        "colab_type": "code",
        "colab": {}
      },
      "source": [
        "# Irrelevant Data = Row number, ID, Name\n",
        "# This is because these information are not usefule for analysis\n",
        "BANK_DATA = BANK_DATA.drop([\"RowNumber\", \"CustomerId\", \"Surname\"], axis = 1)"
      ],
      "execution_count": null,
      "outputs": []
    },
    {
      "cell_type": "markdown",
      "metadata": {
        "id": "3Je8OS5b8mUu",
        "colab_type": "text"
      },
      "source": [
        "**Seperate Churn and Not Churn Customer**"
      ]
    },
    {
      "cell_type": "code",
      "metadata": {
        "id": "7ZFBFRVS9_6l",
        "colab_type": "code",
        "colab": {}
      },
      "source": [
        "Churn     = BANK_DATA[BANK_DATA[\"Exited\"] == 1]\n",
        "Not_Churn = BANK_DATA[BANK_DATA[\"Exited\"] == 0]"
      ],
      "execution_count": null,
      "outputs": []
    },
    {
      "cell_type": "code",
      "metadata": {
        "id": "i20EH3CM-ITw",
        "colab_type": "code",
        "colab": {}
      },
      "source": [
        "target_col = [\"Exited\"]\n",
        "cat_cols   = BANK_DATA.nunique()[BANK_DATA.nunique() < 6].keys().tolist()\n",
        "cat_cols   = [x for x in cat_cols if x not in target_col]\n",
        "num_cols   = [x for x in BANK_DATA.columns if x not in cat_cols + target_col]"
      ],
      "execution_count": null,
      "outputs": []
    },
    {
      "cell_type": "markdown",
      "metadata": {
        "id": "-NElXImc-45d",
        "colab_type": "text"
      },
      "source": [
        "**Data Set After Manipulation :**"
      ]
    },
    {
      "cell_type": "code",
      "metadata": {
        "id": "Ay5jUyDU-_3J",
        "colab_type": "code",
        "colab": {}
      },
      "source": [
        "# We can see that the first three columns are removed.\n",
        "BANK_DATA.head()"
      ],
      "execution_count": null,
      "outputs": []
    },
    {
      "cell_type": "code",
      "metadata": {
        "id": "EwYjSf4bCm5W",
        "colab_type": "code",
        "colab": {}
      },
      "source": [
        "# Data size is reduce to 110000\n",
        "BANK_DATA.size"
      ],
      "execution_count": null,
      "outputs": []
    },
    {
      "cell_type": "code",
      "metadata": {
        "id": "lqFO1mZvD6LM",
        "colab_type": "code",
        "colab": {}
      },
      "source": [
        "# New Data Shape \n",
        "BANK_DATA.shape"
      ],
      "execution_count": null,
      "outputs": []
    },
    {
      "cell_type": "markdown",
      "metadata": {
        "id": "2EXd5YWGG3qJ",
        "colab_type": "text"
      },
      "source": [
        "**Customer Churn Analysis ( Percentage ) :**"
      ]
    },
    {
      "cell_type": "code",
      "metadata": {
        "id": "lIq28zx-HOk9",
        "colab_type": "code",
        "colab": {}
      },
      "source": [
        "# 0 = Not Churn\n",
        "# 1 = Churn\n",
        "# Result = Not Churn (79.63%), Churn (20.37%)\n",
        "Churn_Percentage = BANK_DATA['Exited'].value_counts(normalize = True) * 100\n",
        "Churn_Percentage"
      ],
      "execution_count": null,
      "outputs": []
    },
    {
      "cell_type": "markdown",
      "metadata": {
        "id": "9dqasmOgH7_i",
        "colab_type": "text"
      },
      "source": [
        "**Customer Churn Analysis ( Bar Chart ) :**"
      ]
    },
    {
      "cell_type": "code",
      "metadata": {
        "id": "CVoFL-hHIJcI",
        "colab_type": "code",
        "colab": {}
      },
      "source": [
        "# Bar Chart representation of the target label percentage.\n",
        "total_len = len(BANK_DATA['Exited'])\n",
        "sns.set()\n",
        "sns.countplot(BANK_DATA.Exited).set_title('Data Distribution')\n",
        "ax = plt.gca()\n",
        "for p in ax.patches:\n",
        "    height = p.get_height()\n",
        "    ax.text(p.get_x() + p.get_width()/2.,\n",
        "            height + 2,\n",
        "            '{:.2f}%'.format(100 * (height/total_len)),\n",
        "            fontsize=14, ha='center', va='bottom')\n",
        "sns.set(font_scale=1.5)\n",
        "ax.set_xlabel(\"Labels for exited column\")\n",
        "ax.set_ylabel(\"Numbers of records\")\n",
        "plt.show()"
      ],
      "execution_count": null,
      "outputs": []
    },
    {
      "cell_type": "markdown",
      "metadata": {
        "id": "CRV57jCoMLjV",
        "colab_type": "text"
      },
      "source": [
        "**Customer Churn Analysis ( Relationship with other categorical ) :**"
      ]
    },
    {
      "cell_type": "code",
      "metadata": {
        "id": "O1wY0TVwJGfI",
        "colab_type": "code",
        "colab": {}
      },
      "source": [
        "    # We first review the 'Status' relation with categorical variables\n",
        "    fig, axarr = plt.subplots(2, 3, figsize=(25, 12))\n",
        "    sns.countplot(x='Geography', hue = 'Exited',data = BANK_DATA, ax=axarr[0][0])\n",
        "    sns.countplot(x='Gender', hue = 'Exited',data = BANK_DATA, ax=axarr[0][1])\n",
        "    sns.countplot(x='NumOfProducts', hue = 'Exited',data = BANK_DATA, ax=axarr[0][2])\n",
        "    sns.countplot(x='HasCrCard', hue = 'Exited',data = BANK_DATA, ax=axarr[1][0])\n",
        "    sns.countplot(x='IsActiveMember', hue = 'Exited',data = BANK_DATA, ax=axarr[1][1])"
      ],
      "execution_count": null,
      "outputs": []
    },
    {
      "cell_type": "markdown",
      "metadata": {
        "id": "EyLRySU-OBRY",
        "colab_type": "text"
      },
      "source": [
        "Based on the graphs above : \n",
        "\n",
        "1.   **Geography** : Germany has the highest rate of churn customer, while Spain has the lowest rate of churn customer.\n",
        "\n",
        "2. **Gender** : Female customer has higher rate of churning compare to Male customer\n",
        "\n",
        "3. **Number Of Products** : Customers that have only one products are the propotion with highest churning rate, followed by the number of products 2, 3 and 4.\n",
        "\n",
        "4. **Has Credit Card** : Based on the result, majority of the customer that churned are those with credit card. \n",
        "\n",
        "5. **Active Status** : Inactive member of the bank customers have the greater number of churned compare to active members.\n",
        "\n"
      ]
    },
    {
      "cell_type": "markdown",
      "metadata": {
        "id": "kDsGLKv9VdAp",
        "colab_type": "text"
      },
      "source": [
        "**Correlation ( Heatmap ) :**"
      ]
    },
    {
      "cell_type": "code",
      "metadata": {
        "id": "YcMLHf0YVhzf",
        "colab_type": "code",
        "colab": {}
      },
      "source": [
        "# Visualization of the correlation matrix using heatmap plot\n",
        "sns.set()\n",
        "sns.set(font_scale = 1.25)\n",
        "sns.heatmap(BANK_DATA[BANK_DATA.columns[:10]].corr(), annot = True,fmt = \".1f\")\n",
        "plt.show()"
      ],
      "execution_count": null,
      "outputs": []
    },
    {
      "cell_type": "markdown",
      "metadata": {
        "id": "y5X0oXO5XR7z",
        "colab_type": "text"
      },
      "source": [
        "# Data Preparation"
      ]
    },
    {
      "cell_type": "code",
      "metadata": {
        "id": "qepGT4ho0KjP",
        "colab_type": "code",
        "colab": {}
      },
      "source": [
        "# One-Hot encoding our categorical attributes\n",
        "list_cat = ['Geography', 'Gender']\n",
        "BANK_DATA = pd.get_dummies(BANK_DATA, columns = list_cat, prefix = list_cat)"
      ],
      "execution_count": null,
      "outputs": []
    },
    {
      "cell_type": "markdown",
      "metadata": {
        "id": "V7Rn_tlM7vRN",
        "colab_type": "text"
      },
      "source": [
        "**Data set preview :**"
      ]
    },
    {
      "cell_type": "code",
      "metadata": {
        "id": "3nuCyEPt0Knh",
        "colab_type": "code",
        "colab": {}
      },
      "source": [
        "# Print the first five rows\n",
        "BANK_DATA.head()"
      ],
      "execution_count": null,
      "outputs": []
    },
    {
      "cell_type": "markdown",
      "metadata": {
        "id": "JTJevciR8D4A",
        "colab_type": "text"
      },
      "source": [
        "**Drop Exited Column:**"
      ]
    },
    {
      "cell_type": "code",
      "metadata": {
        "id": "8l3l3Nso3fg3",
        "colab_type": "code",
        "colab": {}
      },
      "source": [
        "# Drop Exited column because it contains the answer/target/label for each row. \n",
        "X = BANK_DATA.drop('Exited', axis=1)\n",
        "y = BANK_DATA.Exited"
      ],
      "execution_count": null,
      "outputs": []
    },
    {
      "cell_type": "markdown",
      "metadata": {
        "id": "WSljidHp7WHN",
        "colab_type": "text"
      },
      "source": [
        "# Modeling"
      ]
    },
    {
      "cell_type": "code",
      "metadata": {
        "id": "MNmsYnbA3fbZ",
        "colab_type": "code",
        "colab": {}
      },
      "source": [
        "# Import different models \n",
        "from sklearn.svm import SVC\n",
        "from sklearn.linear_model import LogisticRegression\n",
        "from sklearn.ensemble import AdaBoostClassifier, GradientBoostingClassifier, RandomForestClassifier\n",
        "from sklearn.neighbors import KNeighborsClassifier\n",
        "from sklearn.model_selection import train_test_split\n",
        "# Scoring function\n",
        "from sklearn.metrics import roc_auc_score, roc_curve"
      ],
      "execution_count": null,
      "outputs": []
    },
    {
      "cell_type": "markdown",
      "metadata": {
        "id": "hLPw96J98mJh",
        "colab_type": "text"
      },
      "source": [
        "**Train-test Split :**"
      ]
    },
    {
      "cell_type": "code",
      "metadata": {
        "id": "ZH0dPmxv3foK",
        "colab_type": "code",
        "colab": {}
      },
      "source": [
        "# Splitting the dataset in training and test set\n",
        "# 75% of data for training purpose\n",
        "# Remaining 25% of data is use to check the training accuracy of our trained model.\n",
        "X_train, X_test, y_train, y_test = train_test_split(X, y, test_size = 0.25)"
      ],
      "execution_count": null,
      "outputs": []
    },
    {
      "cell_type": "markdown",
      "metadata": {
        "id": "RpOOm1ge98RH",
        "colab_type": "text"
      },
      "source": [
        "**K-Nearest Neighbour ( KNN ) :**"
      ]
    },
    {
      "cell_type": "code",
      "metadata": {
        "id": "u82vAe2K3gEV",
        "colab_type": "code",
        "colab": {}
      },
      "source": [
        "# Initialization of the KNN\n",
        "knMod = KNeighborsClassifier(n_neighbors = 5, weights = 'uniform', algorithm = 'auto', leaf_size = 30, p = 2,\n",
        "                             metric = 'minkowski', metric_params = None)\n",
        "# Fitting the model with training data \n",
        "knMod.fit(X_train, y_train)"
      ],
      "execution_count": null,
      "outputs": []
    },
    {
      "cell_type": "markdown",
      "metadata": {
        "id": "M4UnCFdx-GYm",
        "colab_type": "text"
      },
      "source": [
        "***Logistic Regression ( LR ) :***"
      ]
    },
    {
      "cell_type": "code",
      "metadata": {
        "id": "FhnOjtJa-KgJ",
        "colab_type": "code",
        "colab": {}
      },
      "source": [
        "# Initialization of the Logistic Regression\n",
        "lrMod = LogisticRegression(penalty = 'l2', dual = False, tol = 0.0001, C = 1.0, fit_intercept = True,\n",
        "                            intercept_scaling = 1, class_weight = None, \n",
        "                            random_state = None, solver = 'liblinear', max_iter = 100,\n",
        "                            multi_class = 'ovr', verbose = 2)\n",
        "# Fitting the model with training data \n",
        "lrMod.fit(X_train, y_train)"
      ],
      "execution_count": null,
      "outputs": []
    },
    {
      "cell_type": "markdown",
      "metadata": {
        "id": "DppJRqJu-nXZ",
        "colab_type": "text"
      },
      "source": [
        "**Random Forest ( RF ) :**"
      ]
    },
    {
      "cell_type": "code",
      "metadata": {
        "id": "7JTmNN3R-sIy",
        "colab_type": "code",
        "colab": {}
      },
      "source": [
        "# Initialization of the Random Forest model\n",
        "rfMod = RandomForestClassifier(n_estimators=10, criterion='gini')\n",
        "# Fitting the model with training data \n",
        "rfMod.fit(X_train, y_train)"
      ],
      "execution_count": null,
      "outputs": []
    },
    {
      "cell_type": "markdown",
      "metadata": {
        "id": "hzgi51Lt--id",
        "colab_type": "text"
      },
      "source": [
        "**Model Accuracy Computation :**"
      ]
    },
    {
      "cell_type": "markdown",
      "metadata": {
        "id": "Q38wyAo2_e4S",
        "colab_type": "text"
      },
      "source": [
        "**KNN :**"
      ]
    },
    {
      "cell_type": "code",
      "metadata": {
        "id": "cOMEofQL_csN",
        "colab_type": "code",
        "colab": {}
      },
      "source": [
        "# Compute the model accuracy on the given test data and labels\n",
        "knn_acc = knMod.score(X_test, y_test)\n",
        "# Return probability estimates for the test data\n",
        "test_labels = knMod.predict_proba(np.array(X_test.values))[:,1]"
      ],
      "execution_count": null,
      "outputs": []
    },
    {
      "cell_type": "markdown",
      "metadata": {
        "id": "dpWanxWD_lrX",
        "colab_type": "text"
      },
      "source": [
        "**LR :**"
      ]
    },
    {
      "cell_type": "code",
      "metadata": {
        "id": "9SYjhNnO_lzW",
        "colab_type": "code",
        "colab": {}
      },
      "source": [
        "# Compute the model accuracy on the given test data and labels\n",
        "lr_acc = lrMod.score(X_test, y_test)\n",
        "# Return probability estimates for the test data\n",
        "test_labels = lrMod.predict_proba(np.array(X_test.values))[:,1]"
      ],
      "execution_count": null,
      "outputs": []
    },
    {
      "cell_type": "markdown",
      "metadata": {
        "id": "jTeXmLJq_2L2",
        "colab_type": "text"
      },
      "source": [
        "**RF :**"
      ]
    },
    {
      "cell_type": "code",
      "metadata": {
        "id": "eDIetNox_mB7",
        "colab_type": "code",
        "colab": {}
      },
      "source": [
        "# Compute the model accuracy on the given test data and labels\n",
        "rf_acc = rfMod.score(X_test, y_test)\n",
        "# Return probability estimates for the test data\n",
        "test_labels = rfMod.predict_proba(np.array(X_test.values))[:,1]"
      ],
      "execution_count": null,
      "outputs": []
    },
    {
      "cell_type": "markdown",
      "metadata": {
        "id": "n-lMyopeCPK9",
        "colab_type": "text"
      },
      "source": [
        "# Evaluation"
      ]
    },
    {
      "cell_type": "code",
      "metadata": {
        "id": "fYn5FdmFAAiB",
        "colab_type": "code",
        "colab": {}
      },
      "source": [
        "models = ['KNN', 'Logistic Regression', 'Random Forest']\n",
        "accuracy = [knn_acc, lr_acc, rf_acc]\n",
        "\n",
        "d = {'Accuracy': accuracy}\n",
        "df_metrics = pd.DataFrame(d, index = models)\n",
        "df_metrics"
      ],
      "execution_count": null,
      "outputs": []
    },
    {
      "cell_type": "markdown",
      "metadata": {
        "id": "V8NLLVl4CgeZ",
        "colab_type": "text"
      },
      "source": [
        "Based on the result above, we can see that **RF** has the highest accuracy among all of the models. Followed by **LR** and lastly the **KNN** which has the lowest accuracy."
      ]
    },
    {
      "cell_type": "markdown",
      "metadata": {
        "id": "59wCPJeFDhEf",
        "colab_type": "text"
      },
      "source": [
        "# Conclusion "
      ]
    },
    {
      "cell_type": "markdown",
      "metadata": {
        "id": "D3W3isPGIXGM",
        "colab_type": "text"
      },
      "source": [
        "For conclusion, based on the result above, we have achieve our objectives. During the Data Understanding, we found out that customer from country Germany are the most churned. Female customer are more likely to churn compare to male customer. Customer that only using one product are the most churned. Other than that, credit card holder of the bank customer has higher churning rate compare to non credit card holder. Lastly, we also found that inactive member have greater churning rate than active member. \n",
        "\n",
        "For the prediction models we tested above, the best model that produce highest accuracy is Random Forest ( RF ) with about accuracy of 85%. Thus, the RF is the best prediction models for predicting whether a customer will churn or not churn."
      ]
    }
  ]
}